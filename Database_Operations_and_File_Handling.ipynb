{
 "cells": [
  {
   "cell_type": "markdown",
   "id": "dfc9186e",
   "metadata": {},
   "source": [
    "# Database Operations and File Handling\n",
    "\n",
    "This notebook covers the steps to create and manipulate database tables, as well as copying files to specific directories.\n"
   ]
  },
  {
   "cell_type": "markdown",
   "id": "c037c2eb",
   "metadata": {},
   "source": [
    "## 1. Create the `stg_Churn` Table\n"
   ]
  },
  {
   "cell_type": "markdown",
   "id": "c3f51dbd",
   "metadata": {},
   "source": [
    "DROP TABLE IF EXISTS stg_Churn;\n",
    "\n",
    "CREATE TABLE stg_Churn (\n",
    "    Customer_ID VARCHAR(20),\n",
    "    Gender VARCHAR(10),\n",
    "    Age INT,\n",
    "    Married VARCHAR(5),\n",
    "    State VARCHAR(50),\n",
    "    Number_of_Referrals INT,\n",
    "    Tenure_in_Months INT,\n",
    "    Value_Deal VARCHAR(50),\n",
    "    Phone_Service VARCHAR(5),\n",
    "    Multiple_Lines VARCHAR(5),\n",
    "    Internet_Service VARCHAR(5),\n",
    "    Internet_Type VARCHAR(50),\n",
    "    Online_Security VARCHAR(5),\n",
    "    Online_Backup VARCHAR(5),\n",
    "    Device_Protection_Plan VARCHAR(5),\n",
    "    Premium_Support VARCHAR(5),\n",
    "    Streaming_TV VARCHAR(5),\n",
    "    Streaming_Movies VARCHAR(5),\n",
    "    Streaming_Music VARCHAR(5),\n",
    "    Unlimited_Data VARCHAR(5),\n",
    "    Contract VARCHAR(20),\n",
    "    Paperless_Billing VARCHAR(5),\n",
    "    Payment_Method VARCHAR(20),\n",
    "    Monthly_Charge NUMERIC,\n",
    "    Total_Charges NUMERIC,\n",
    "    Total_Refunds NUMERIC,\n",
    "    Total_Extra_Data_Charges NUMERIC,\n",
    "    Total_Long_Distance_Charges NUMERIC,\n",
    "    Total_Revenue NUMERIC,\n",
    "    Customer_Status VARCHAR(20),\n",
    "    Churn_Category VARCHAR(50),\n",
    "    Churn_Reason TEXT\n",
    ");"
   ]
  },
  {
   "cell_type": "markdown",
   "id": "968fe958",
   "metadata": {},
   "source": [
    "## 2. Import the Table Data\n"
   ]
  },
  {
   "cell_type": "markdown",
   "id": "90db4804",
   "metadata": {},
   "source": [
    "COPY stg_Churn FROM '/Users/yiluo/Desktop/project-aish/Data & Resources/Data/Customer_Data.csv'\n",
    "DELIMITER ','\n",
    "CSV HEADER;"
   ]
  },
  {
   "cell_type": "markdown",
   "id": "c5949a5c",
   "metadata": {},
   "source": [
    "## 3. Explore the Database Using SQL\n"
   ]
  },
  {
   "cell_type": "markdown",
   "id": "34d9a56a",
   "metadata": {},
   "source": [
    "SELECT \n",
    "    gender, \n",
    "    COUNT(gender) AS TotalCount,\n",
    "    COUNT(gender) * 1.0 / (SELECT COUNT(*) FROM stg_churn) AS Percentage\n",
    "FROM \n",
    "    stg_churn\n",
    "GROUP BY \n",
    "    gender;"
   ]
  },
  {
   "cell_type": "markdown",
   "id": "dccdc501",
   "metadata": {},
   "source": [
    "## 4. Create the `prod_Churn` Table\n"
   ]
  },
  {
   "cell_type": "markdown",
   "id": "73251063",
   "metadata": {},
   "source": [
    "CREATE TABLE prod_Churn AS\n",
    "SELECT \n",
    "    Customer_ID,\n",
    "    Gender,\n",
    "    Age,\n",
    "    Married,\n",
    "    State,\n",
    "    Number_of_Referrals,\n",
    "    Tenure_in_Months,\n",
    "    COALESCE(Value_Deal, 'None') AS Value_Deal,\n",
    "    Phone_Service,\n",
    "    COALESCE(Multiple_Lines, 'No') AS Multiple_Lines,\n",
    "    Internet_Service,\n",
    "    COALESCE(Internet_Type, 'None') AS Internet_Type,\n",
    "    COALESCE(Online_Security, 'No') AS Online_Security,\n",
    "    COALESCE(Online_Backup, 'No') AS Online_Backup,\n",
    "    COALESCE(Device_Protection_Plan, 'No') AS Device_Protection_Plan,\n",
    "    COALESCE(Premium_Support, 'No') AS Premium_Support,\n",
    "    COALESCE(Streaming_TV, 'No') AS Streaming_TV,\n",
    "    COALESCE(Streaming_Movies, 'No') AS Streaming_Movies,\n",
    "    COALESCE(Streaming_Music, 'No') AS Streaming_Music,\n",
    "    COALESCE(Unlimited_Data, 'No') AS Unlimited_Data,\n",
    "    Contract,\n",
    "    Paperless_Billing,\n",
    "    Payment_Method,\n",
    "    Monthly_Charge,\n",
    "    Total_Charges,\n",
    "    Total_Refunds,\n",
    "    Total_Extra_Data_Charges,\n",
    "    Total_Long_Distance_Charges,\n",
    "    Total_Revenue,\n",
    "    Customer_Status,\n",
    "    COALESCE(Churn_Category, 'Others') AS Churn_Category,\n",
    "    COALESCE(Churn_Reason , 'Others') AS Churn_Reason\n",
    "FROM stg_Churn;"
   ]
  },
  {
   "cell_type": "markdown",
   "id": "478e4ad8",
   "metadata": {},
   "source": [
    "## 5. Create Views\n"
   ]
  },
  {
   "cell_type": "markdown",
   "id": "19186d09",
   "metadata": {},
   "source": [
    "CREATE VIEW vw_ChurnData AS\n",
    "SELECT *\n",
    "FROM prod_Churn\n",
    "WHERE Customer_Status IN ('Churned', 'Stayed');\n",
    "\n",
    "CREATE VIEW vw_JoinData AS\n",
    "SELECT *\n",
    "FROM prod_Churn\n",
    "WHERE Customer_Status = 'Joined';"
   ]
  },
  {
   "cell_type": "markdown",
   "id": "702af8cc",
   "metadata": {},
   "source": [
    "## 6. Save the Driver File in the Required Path\n"
   ]
  },
  {
   "cell_type": "markdown",
   "id": "9c0a7177",
   "metadata": {},
   "source": [
    "cp /Users/yiluo/Downloads/postgresql-42.7.3.jar ~/Library/Tableau/Drivers/"
   ]
  },
  {
   "cell_type": "markdown",
   "id": "12cd3ae0",
   "metadata": {},
   "source": [
    "## 7. Data Transformation in Tableau"
   ]
  },
  {
   "cell_type": "markdown",
   "id": "a7dd0d21",
   "metadata": {},
   "source": [
    "1. Connect the Postgresql database in tableau\n",
    "2. Then select `prod_churn` table.\n",
    "3. At bottom left side, click on Sheet 1 to see the Sheet View of the data.\n",
    "4. Click on the dropdown beside the table name to see the Menu.\n",
    "5. Select 'Create Calculated Field' under the Menu.\n",
    "to create first field 'Churn Status' --> `IF [Customer Status] = \"Churned\" THEN 1 ELSE 0 END`\n",
    "6. Second field \"Monthly Charge Range' --> `IF [Monthly Charge] < 20 THEN \"< 20\"\n",
    "ELSEIF [Monthly Charge] < 50 THEN \"20-50\"\n",
    "ELSEIF [Monthly Charge] < 100 THEN \"50-100\"\n",
    "ELSE \"> 100\" END`\n",
    "7. Go to Data Source tab view, click on the dropdown beside Age column , then click on 'Create Calculated Field' to set the 'Age Group' --> `IF [Age] < 20 THEN \"< 20\"\n",
    "ELSEIF [Age] < 36 THEN \"20 - 35\"\n",
    "ELSEIF [Age] < 51 THEN \"36 - 50\"\n",
    "ELSE \"> 50\" END`\n",
    "8. Now move to Sheet View, click the dropdown select 'Create Calculated Field' to sort the age group `AgeGrpSorting` --> `IF [Age Group] = \"< 20\" THEN 1\n",
    "ELSEIF [Age Group] = \"20 - 35\" THEN 2\n",
    "ELSEIF [Age Group] = \"36 - 50\" THEN 3\n",
    "ELSE 4 END`\n",
    "check whether this field is numeric or not by right click on it --> change data type --> it should be Number (whole)\n",
    "9. Go to Data Source tab view, click on the dropdown beside Tenure In Months column , then click on 'Create Calculated Field' to set the 'Tenure Group' --> `IF [Tenure In Months] < 6 THEN \"< 6 Months\"\n",
    "ELSEIF [Tenure In Months] < 12 THEN \"6-12 Months\"\n",
    "ELSEIF [Tenure In Months] < 18 THEN \"12-18 Months\"\n",
    "ELSEIF [Tenure In Months] < 24 THEN \"18-24 Months\"\n",
    "ELSE \">= 24 Months\" END`\n",
    "10. Now move to Sheet View, click the dropdown select 'Create Calculated Field' to sort the age group `TenureGrpSorting` --> `IF [Tenure Group] = \"< 6 Months\" THEN 1\n",
    "ELSEIF [Tenure Group] = \"6-12 Months\" THEN 2\n",
    "ELSEIF [Tenure Group] = \"12-18 Months\" THEN 3\n",
    "ELSEIF [Tenure Group] = \"18-24 Months\" THEN 4\n",
    "ELSE 5 END`\n",
    "check whether this field is numeric or not by right click on it --> change data type --> it should be Number (whole)\n",
    "11. Total Customers --> `COUNT([Customer Id])`\n",
    "12. New Joiners --> `COUNT(IF [Customer Status] = \"Joined\" THEN [Customer Id] END)`\n",
    "13. Total Churn --> `SUM([Churn Status])`\n",
    "14. Churn Rate --> `[Total Churn] / [Total Customers]`\n"
   ]
  }
 ],
 "metadata": {
  "language_info": {
   "name": "python"
  }
 },
 "nbformat": 4,
 "nbformat_minor": 5
}
